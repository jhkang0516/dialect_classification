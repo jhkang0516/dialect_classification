{
  "nbformat": 4,
  "nbformat_minor": 0,
  "metadata": {
    "colab": {
      "provenance": [],
      "machine_shape": "hm",
      "gpuType": "A100",
      "include_colab_link": true
    },
    "kernelspec": {
      "name": "python3",
      "display_name": "Python 3"
    },
    "language_info": {
      "name": "python"
    }
  },
  "cells": [
    {
      "cell_type": "markdown",
      "metadata": {
        "id": "view-in-github",
        "colab_type": "text"
      },
      "source": [
        "<a href=\"https://colab.research.google.com/github/jhkang0516/dialect_classification/blob/main/RF.ipynb\" target=\"_parent\"><img src=\"https://colab.research.google.com/assets/colab-badge.svg\" alt=\"Open In Colab\"/></a>"
      ]
    },
    {
      "cell_type": "code",
      "source": [
        "from google.colab import drive\n",
        "drive.mount('/content/drive')"
      ],
      "metadata": {
        "id": "9_p_XEdkjOy1",
        "colab": {
          "base_uri": "https://localhost:8080/"
        },
        "outputId": "a3801f18-b2cc-482d-8c07-6b529277bb98"
      },
      "execution_count": null,
      "outputs": [
        {
          "output_type": "stream",
          "name": "stdout",
          "text": [
            "Mounted at /content/drive\n"
          ]
        }
      ]
    },
    {
      "cell_type": "code",
      "source": [
        "import pandas as pd\n",
        "import numpy as np\n",
        "import matplotlib.pyplot as plt\n",
        "import soundfile as sf\n",
        "import librosa\n",
        "import librosa.display\n",
        "from IPython.display import Audio\n",
        "from tqdm import tqdm\n",
        "from sklearn.model_selection import train_test_split\n",
        "import tensorflow as tf\n",
        "from tensorflow import keras\n",
        "from keras.models import Sequential\n",
        "from keras.layers import Dense, Flatten, Conv2D, MaxPooling2D, Dropout, LSTM, Bidirectional, GRU, BatchNormalization, LeakyReLU\n",
        "from keras.utils import to_categorical\n",
        "import os\n",
        "import math\n",
        "import json\n",
        "import random"
      ],
      "metadata": {
        "id": "I5GMeztkjdNP"
      },
      "execution_count": null,
      "outputs": []
    },
    {
      "cell_type": "code",
      "source": [
        "# 데이터 로드\n",
        "dataDir = \"/content/drive/MyDrive/Colab Notebooks/TeamProject/\"\n",
        "X_mfcc_ALL = np.load(dataDir + \"X_mfcc_ALL.npy\")\n",
        "Y_label_ALL = np.load(dataDir + \"Y_label_ALL.npy\")"
      ],
      "metadata": {
        "id": "L8_r1Nxt-Npr"
      },
      "execution_count": null,
      "outputs": []
    },
    {
      "cell_type": "code",
      "source": [
        "# 3차원 -> 2차원\n",
        "X_mfcc_conv = []\n",
        "for item in X_mfcc_ALL:\n",
        "    series = pd.Series(np.hstack((np.mean(item, axis=1), np.std(item, axis=1))))\n",
        "    X_mfcc_conv.append(series)\n",
        "\n",
        "X_mfcc_conv = np.array(X_mfcc_conv)"
      ],
      "metadata": {
        "id": "xRtlOW7lUWez"
      },
      "execution_count": null,
      "outputs": []
    },
    {
      "cell_type": "code",
      "source": [
        "print(X_mfcc_ALL.shape)\n",
        "print(X_mfcc_conv.shape)"
      ],
      "metadata": {
        "colab": {
          "base_uri": "https://localhost:8080/"
        },
        "id": "3D6fP2FwB8Gq",
        "outputId": "b523cb1a-22de-46ba-87fc-138e13ae8fee"
      },
      "execution_count": null,
      "outputs": [
        {
          "output_type": "stream",
          "name": "stdout",
          "text": [
            "(60000, 39, 259)\n",
            "(60000, 78)\n"
          ]
        }
      ]
    },
    {
      "cell_type": "code",
      "source": [
        "# Y_label_ALL 라벨인코딩-원핫인코딩\n",
        "\n",
        "DF_Y = pd.DataFrame(Y_label_ALL)\n",
        "DF_Y = pd.get_dummies(DF_Y)"
      ],
      "metadata": {
        "id": "UVXXe34YFoxQ"
      },
      "execution_count": null,
      "outputs": []
    },
    {
      "cell_type": "code",
      "source": [
        "# 인코딩 결과 확인\n",
        "DF_Y"
      ],
      "metadata": {
        "id": "TkIMcY8zF6nX",
        "colab": {
          "base_uri": "https://localhost:8080/",
          "height": 423
        },
        "outputId": "bde9c73b-5dc0-4e2b-d894-eb99cf3b8ab3"
      },
      "execution_count": null,
      "outputs": [
        {
          "output_type": "execute_result",
          "data": {
            "text/plain": [
              "       0_강원  0_경상  0_전라  0_제주  0_충청  0_표준\n",
              "0         0     1     0     0     0     0\n",
              "1         0     1     0     0     0     0\n",
              "2         0     1     0     0     0     0\n",
              "3         0     1     0     0     0     0\n",
              "4         0     1     0     0     0     0\n",
              "...     ...   ...   ...   ...   ...   ...\n",
              "59995     0     0     0     0     0     1\n",
              "59996     0     0     0     0     0     1\n",
              "59997     0     0     0     0     0     1\n",
              "59998     0     0     0     0     0     1\n",
              "59999     0     0     0     0     0     1\n",
              "\n",
              "[60000 rows x 6 columns]"
            ],
            "text/html": [
              "\n",
              "  <div id=\"df-cb254a08-f4e9-4e7c-8ee7-6c38cfb61395\">\n",
              "    <div class=\"colab-df-container\">\n",
              "      <div>\n",
              "<style scoped>\n",
              "    .dataframe tbody tr th:only-of-type {\n",
              "        vertical-align: middle;\n",
              "    }\n",
              "\n",
              "    .dataframe tbody tr th {\n",
              "        vertical-align: top;\n",
              "    }\n",
              "\n",
              "    .dataframe thead th {\n",
              "        text-align: right;\n",
              "    }\n",
              "</style>\n",
              "<table border=\"1\" class=\"dataframe\">\n",
              "  <thead>\n",
              "    <tr style=\"text-align: right;\">\n",
              "      <th></th>\n",
              "      <th>0_강원</th>\n",
              "      <th>0_경상</th>\n",
              "      <th>0_전라</th>\n",
              "      <th>0_제주</th>\n",
              "      <th>0_충청</th>\n",
              "      <th>0_표준</th>\n",
              "    </tr>\n",
              "  </thead>\n",
              "  <tbody>\n",
              "    <tr>\n",
              "      <th>0</th>\n",
              "      <td>0</td>\n",
              "      <td>1</td>\n",
              "      <td>0</td>\n",
              "      <td>0</td>\n",
              "      <td>0</td>\n",
              "      <td>0</td>\n",
              "    </tr>\n",
              "    <tr>\n",
              "      <th>1</th>\n",
              "      <td>0</td>\n",
              "      <td>1</td>\n",
              "      <td>0</td>\n",
              "      <td>0</td>\n",
              "      <td>0</td>\n",
              "      <td>0</td>\n",
              "    </tr>\n",
              "    <tr>\n",
              "      <th>2</th>\n",
              "      <td>0</td>\n",
              "      <td>1</td>\n",
              "      <td>0</td>\n",
              "      <td>0</td>\n",
              "      <td>0</td>\n",
              "      <td>0</td>\n",
              "    </tr>\n",
              "    <tr>\n",
              "      <th>3</th>\n",
              "      <td>0</td>\n",
              "      <td>1</td>\n",
              "      <td>0</td>\n",
              "      <td>0</td>\n",
              "      <td>0</td>\n",
              "      <td>0</td>\n",
              "    </tr>\n",
              "    <tr>\n",
              "      <th>4</th>\n",
              "      <td>0</td>\n",
              "      <td>1</td>\n",
              "      <td>0</td>\n",
              "      <td>0</td>\n",
              "      <td>0</td>\n",
              "      <td>0</td>\n",
              "    </tr>\n",
              "    <tr>\n",
              "      <th>...</th>\n",
              "      <td>...</td>\n",
              "      <td>...</td>\n",
              "      <td>...</td>\n",
              "      <td>...</td>\n",
              "      <td>...</td>\n",
              "      <td>...</td>\n",
              "    </tr>\n",
              "    <tr>\n",
              "      <th>59995</th>\n",
              "      <td>0</td>\n",
              "      <td>0</td>\n",
              "      <td>0</td>\n",
              "      <td>0</td>\n",
              "      <td>0</td>\n",
              "      <td>1</td>\n",
              "    </tr>\n",
              "    <tr>\n",
              "      <th>59996</th>\n",
              "      <td>0</td>\n",
              "      <td>0</td>\n",
              "      <td>0</td>\n",
              "      <td>0</td>\n",
              "      <td>0</td>\n",
              "      <td>1</td>\n",
              "    </tr>\n",
              "    <tr>\n",
              "      <th>59997</th>\n",
              "      <td>0</td>\n",
              "      <td>0</td>\n",
              "      <td>0</td>\n",
              "      <td>0</td>\n",
              "      <td>0</td>\n",
              "      <td>1</td>\n",
              "    </tr>\n",
              "    <tr>\n",
              "      <th>59998</th>\n",
              "      <td>0</td>\n",
              "      <td>0</td>\n",
              "      <td>0</td>\n",
              "      <td>0</td>\n",
              "      <td>0</td>\n",
              "      <td>1</td>\n",
              "    </tr>\n",
              "    <tr>\n",
              "      <th>59999</th>\n",
              "      <td>0</td>\n",
              "      <td>0</td>\n",
              "      <td>0</td>\n",
              "      <td>0</td>\n",
              "      <td>0</td>\n",
              "      <td>1</td>\n",
              "    </tr>\n",
              "  </tbody>\n",
              "</table>\n",
              "<p>60000 rows × 6 columns</p>\n",
              "</div>\n",
              "      <button class=\"colab-df-convert\" onclick=\"convertToInteractive('df-cb254a08-f4e9-4e7c-8ee7-6c38cfb61395')\"\n",
              "              title=\"Convert this dataframe to an interactive table.\"\n",
              "              style=\"display:none;\">\n",
              "        \n",
              "  <svg xmlns=\"http://www.w3.org/2000/svg\" height=\"24px\"viewBox=\"0 0 24 24\"\n",
              "       width=\"24px\">\n",
              "    <path d=\"M0 0h24v24H0V0z\" fill=\"none\"/>\n",
              "    <path d=\"M18.56 5.44l.94 2.06.94-2.06 2.06-.94-2.06-.94-.94-2.06-.94 2.06-2.06.94zm-11 1L8.5 8.5l.94-2.06 2.06-.94-2.06-.94L8.5 2.5l-.94 2.06-2.06.94zm10 10l.94 2.06.94-2.06 2.06-.94-2.06-.94-.94-2.06-.94 2.06-2.06.94z\"/><path d=\"M17.41 7.96l-1.37-1.37c-.4-.4-.92-.59-1.43-.59-.52 0-1.04.2-1.43.59L10.3 9.45l-7.72 7.72c-.78.78-.78 2.05 0 2.83L4 21.41c.39.39.9.59 1.41.59.51 0 1.02-.2 1.41-.59l7.78-7.78 2.81-2.81c.8-.78.8-2.07 0-2.86zM5.41 20L4 18.59l7.72-7.72 1.47 1.35L5.41 20z\"/>\n",
              "  </svg>\n",
              "      </button>\n",
              "      \n",
              "  <style>\n",
              "    .colab-df-container {\n",
              "      display:flex;\n",
              "      flex-wrap:wrap;\n",
              "      gap: 12px;\n",
              "    }\n",
              "\n",
              "    .colab-df-convert {\n",
              "      background-color: #E8F0FE;\n",
              "      border: none;\n",
              "      border-radius: 50%;\n",
              "      cursor: pointer;\n",
              "      display: none;\n",
              "      fill: #1967D2;\n",
              "      height: 32px;\n",
              "      padding: 0 0 0 0;\n",
              "      width: 32px;\n",
              "    }\n",
              "\n",
              "    .colab-df-convert:hover {\n",
              "      background-color: #E2EBFA;\n",
              "      box-shadow: 0px 1px 2px rgba(60, 64, 67, 0.3), 0px 1px 3px 1px rgba(60, 64, 67, 0.15);\n",
              "      fill: #174EA6;\n",
              "    }\n",
              "\n",
              "    [theme=dark] .colab-df-convert {\n",
              "      background-color: #3B4455;\n",
              "      fill: #D2E3FC;\n",
              "    }\n",
              "\n",
              "    [theme=dark] .colab-df-convert:hover {\n",
              "      background-color: #434B5C;\n",
              "      box-shadow: 0px 1px 3px 1px rgba(0, 0, 0, 0.15);\n",
              "      filter: drop-shadow(0px 1px 2px rgba(0, 0, 0, 0.3));\n",
              "      fill: #FFFFFF;\n",
              "    }\n",
              "  </style>\n",
              "\n",
              "      <script>\n",
              "        const buttonEl =\n",
              "          document.querySelector('#df-cb254a08-f4e9-4e7c-8ee7-6c38cfb61395 button.colab-df-convert');\n",
              "        buttonEl.style.display =\n",
              "          google.colab.kernel.accessAllowed ? 'block' : 'none';\n",
              "\n",
              "        async function convertToInteractive(key) {\n",
              "          const element = document.querySelector('#df-cb254a08-f4e9-4e7c-8ee7-6c38cfb61395');\n",
              "          const dataTable =\n",
              "            await google.colab.kernel.invokeFunction('convertToInteractive',\n",
              "                                                     [key], {});\n",
              "          if (!dataTable) return;\n",
              "\n",
              "          const docLinkHtml = 'Like what you see? Visit the ' +\n",
              "            '<a target=\"_blank\" href=https://colab.research.google.com/notebooks/data_table.ipynb>data table notebook</a>'\n",
              "            + ' to learn more about interactive tables.';\n",
              "          element.innerHTML = '';\n",
              "          dataTable['output_type'] = 'display_data';\n",
              "          await google.colab.output.renderOutput(dataTable, element);\n",
              "          const docLink = document.createElement('div');\n",
              "          docLink.innerHTML = docLinkHtml;\n",
              "          element.appendChild(docLink);\n",
              "        }\n",
              "      </script>\n",
              "    </div>\n",
              "  </div>\n",
              "  "
            ]
          },
          "metadata": {},
          "execution_count": 6
        }
      ]
    },
    {
      "cell_type": "markdown",
      "source": [
        "# 데이터 스플릿"
      ],
      "metadata": {
        "id": "6xO9mJJXAz7j"
      }
    },
    {
      "cell_type": "code",
      "source": [
        "# 데이터 스플릿\n",
        "\n",
        "X_train, X_test, Y_train, Y_test = train_test_split(X_mfcc_conv, DF_Y, test_size=0.3, stratify=DF_Y)"
      ],
      "metadata": {
        "id": "mAIELhvUxOiS"
      },
      "execution_count": null,
      "outputs": []
    },
    {
      "cell_type": "code",
      "source": [
        "# 스플릿 stratify 결과 확인\n",
        "\n",
        "print(pd.DataFrame(Y_train)[\"0_제주\"].value_counts())\n",
        "print(pd.DataFrame(Y_test)[\"0_제주\"].value_counts())"
      ],
      "metadata": {
        "id": "q0IwBds0GWRG",
        "colab": {
          "base_uri": "https://localhost:8080/"
        },
        "outputId": "28c3e8b9-dbea-48c8-d301-11771dea575c"
      },
      "execution_count": null,
      "outputs": [
        {
          "output_type": "stream",
          "name": "stdout",
          "text": [
            "0    35000\n",
            "1     7000\n",
            "Name: 0_제주, dtype: int64\n",
            "0    15000\n",
            "1     3000\n",
            "Name: 0_제주, dtype: int64\n"
          ]
        }
      ]
    },
    {
      "cell_type": "code",
      "source": [
        "print(X_mfcc_ALL.shape)\n",
        "print(X_mfcc_conv.shape)"
      ],
      "metadata": {
        "id": "gcsDM7oqrM8w",
        "colab": {
          "base_uri": "https://localhost:8080/"
        },
        "outputId": "8035b03e-54e2-4cfe-dc7a-32182ebd8dc7"
      },
      "execution_count": null,
      "outputs": [
        {
          "output_type": "stream",
          "name": "stdout",
          "text": [
            "(60000, 39, 259)\n",
            "(60000, 78)\n"
          ]
        }
      ]
    },
    {
      "cell_type": "markdown",
      "source": [
        "# RF 모델 구축"
      ],
      "metadata": {
        "id": "T5SOp1-0Id5_"
      }
    },
    {
      "cell_type": "code",
      "source": [
        "from sklearn.ensemble import RandomForestClassifier\n",
        "from sklearn.model_selection import GridSearchCV\n",
        "\n",
        "rfc = RandomForestClassifier()\n",
        "\n",
        "param_grid = {\n",
        "    'n_estimators': [50, 100, 200],  # 트리의 개수\n",
        "    'max_depth': [None, 5, 10],  # 트리의 최대 깊이\n",
        "    'min_samples_split': [2, 5, 10],  # 노드를 분할하기 위한 최소 샘플 수\n",
        "    'min_samples_leaf': [1, 2, 4]  # 리프 노드에 필요한 최소 샘플 수\n",
        "}\n",
        "\n",
        "grid_search = GridSearchCV(estimator=rfc, param_grid=param_grid, cv=5)\n",
        "\n",
        "grid_search.fit(X_train, Y_train)\n",
        "\n",
        "print(\"Best parameters found: \", grid_search.best_params_)\n",
        "print(\"Best score: \", grid_search.best_score_)"
      ],
      "metadata": {
        "id": "9ujA0fzACTfy",
        "colab": {
          "base_uri": "https://localhost:8080/"
        },
        "outputId": "7542ce8e-7a89-44dd-81c6-ba67646143fc"
      },
      "execution_count": null,
      "outputs": [
        {
          "output_type": "stream",
          "name": "stdout",
          "text": [
            "Best parameters found:  {'max_depth': None, 'min_samples_leaf': 1, 'min_samples_split': 5, 'n_estimators': 50}\n",
            "Best score:  0.35683333333333334\n"
          ]
        }
      ]
    },
    {
      "cell_type": "code",
      "source": [
        "from sklearn.ensemble import RandomForestClassifier\n",
        "from sklearn.metrics import accuracy_score\n",
        "\n",
        "rfc = RandomForestClassifier(max_depth=None, min_samples_leaf=1, min_samples_split=5, n_estimators=50)\n",
        "\n",
        "rfc.fit(X_train, Y_train)\n",
        "predict = rfc.predict(X_test)\n",
        "print(accuracy_score(Y_test, predict))"
      ],
      "metadata": {
        "id": "XcVIvpAg5_oX",
        "colab": {
          "base_uri": "https://localhost:8080/"
        },
        "outputId": "adbf8154-3fbf-4f18-bc2c-8945d029e9ca"
      },
      "execution_count": null,
      "outputs": [
        {
          "output_type": "stream",
          "name": "stdout",
          "text": [
            "0.36038888888888887\n"
          ]
        }
      ]
    },
    {
      "cell_type": "code",
      "source": [
        "from sklearn.metrics import classification_report\n",
        "\n",
        "# Precision, Recall, F1-Score\n",
        "report = classification_report(Y_test, predict);\n",
        "print(report);"
      ],
      "metadata": {
        "id": "LQZskmDQQ2ae",
        "colab": {
          "base_uri": "https://localhost:8080/"
        },
        "outputId": "f981895d-e293-438a-e803-1f6c6a380b3e"
      },
      "execution_count": null,
      "outputs": [
        {
          "output_type": "stream",
          "name": "stdout",
          "text": [
            "              precision    recall  f1-score   support\n",
            "\n",
            "           0       0.95      0.10      0.17      3000\n",
            "           1       0.84      0.10      0.18      3000\n",
            "           2       0.85      0.23      0.36      3000\n",
            "           3       0.91      0.56      0.69      3000\n",
            "           4       0.96      0.45      0.62      3000\n",
            "           5       0.99      0.73      0.84      3000\n",
            "\n",
            "   micro avg       0.93      0.36      0.52     18000\n",
            "   macro avg       0.91      0.36      0.48     18000\n",
            "weighted avg       0.91      0.36      0.48     18000\n",
            " samples avg       0.36      0.36      0.36     18000\n",
            "\n"
          ]
        },
        {
          "output_type": "stream",
          "name": "stderr",
          "text": [
            "/usr/local/lib/python3.10/dist-packages/sklearn/metrics/_classification.py:1344: UndefinedMetricWarning: Precision and F-score are ill-defined and being set to 0.0 in samples with no predicted labels. Use `zero_division` parameter to control this behavior.\n",
            "  _warn_prf(average, modifier, msg_start, len(result))\n"
          ]
        }
      ]
    },
    {
      "cell_type": "code",
      "source": [
        "importance = rfc.feature_importances_\n",
        "std = np.std([tree.feature_importances_ for tree in rfc.estimators_], axis = 0)\n",
        "\n",
        "max = -1\n",
        "idx = 0\n",
        "for f in range(X_train.shape[1]):\n",
        "  print(f, importance[f])\n",
        "  if importance[f] > max:\n",
        "    max = importance[f]\n",
        "    idx = f\n",
        "\n",
        "print(max, idx)"
      ],
      "metadata": {
        "id": "1ChHY25gAINT",
        "colab": {
          "base_uri": "https://localhost:8080/"
        },
        "outputId": "1d890eea-aa2d-4c76-afde-89a3abffe0c0"
      },
      "execution_count": null,
      "outputs": [
        {
          "output_type": "stream",
          "name": "stdout",
          "text": [
            "0 0.033522606017905\n",
            "1 0.046936233324344635\n",
            "2 0.02163553452118628\n",
            "3 0.02048729386258227\n",
            "4 0.0231155328301907\n",
            "5 0.02387673828769269\n",
            "6 0.014133741881275027\n",
            "7 0.013534911791001575\n",
            "8 0.017210330851506545\n",
            "9 0.011230507726352854\n",
            "10 0.010470659623700933\n",
            "11 0.011071662524575891\n",
            "12 0.012521337376461428\n",
            "13 0.015011039475388848\n",
            "14 0.011028153086896256\n",
            "15 0.018418895402999746\n",
            "16 0.013111335823375807\n",
            "17 0.020723115049906173\n",
            "18 0.013941451186104497\n",
            "19 0.010874610262057051\n",
            "20 0.013589137325773723\n",
            "21 0.009463995614798338\n",
            "22 0.012782795030420928\n",
            "23 0.01191168790607246\n",
            "24 0.011943589337371453\n",
            "25 0.013805641821070951\n",
            "26 0.009765242963019904\n",
            "27 0.01100566055008124\n",
            "28 0.009593273816940374\n",
            "29 0.007916851600192171\n",
            "30 0.010234102248982715\n",
            "31 0.008826140767584164\n",
            "32 0.010748233483649028\n",
            "33 0.010408846560795567\n",
            "34 0.016466551800937444\n",
            "35 0.012075238424930522\n",
            "36 0.01781372858316227\n",
            "37 0.011673891262520858\n",
            "38 0.015228754507276484\n",
            "39 0.009327013818532013\n",
            "40 0.01677116588445114\n",
            "41 0.013389249543699019\n",
            "42 0.011284633139580362\n",
            "43 0.00966374503296904\n",
            "44 0.009354846422381935\n",
            "45 0.010451744193350277\n",
            "46 0.01108078099399411\n",
            "47 0.012928735863680228\n",
            "48 0.01102432436685557\n",
            "49 0.010698250893274008\n",
            "50 0.010983557513578525\n",
            "51 0.013756029952186513\n",
            "52 0.01085685858126824\n",
            "53 0.013519631368417393\n",
            "54 0.011687866478043946\n",
            "55 0.015784806406599055\n",
            "56 0.01400493102107781\n",
            "57 0.014715626275405692\n",
            "58 0.010926104824290838\n",
            "59 0.01066165996059771\n",
            "60 0.009624805389510353\n",
            "61 0.00866434987374144\n",
            "62 0.008988310954756983\n",
            "63 0.008084812451962187\n",
            "64 0.008706927418867454\n",
            "65 0.008215851727983297\n",
            "66 0.008274471613672289\n",
            "67 0.00853118787951043\n",
            "68 0.008040341656800343\n",
            "69 0.008546507086132422\n",
            "70 0.00868900404089212\n",
            "71 0.00832879172725231\n",
            "72 0.008598674241868812\n",
            "73 0.010059265683099918\n",
            "74 0.009402781119176706\n",
            "75 0.00908796100892342\n",
            "76 0.009226919671879946\n",
            "77 0.009948419408651515\n",
            "0.046936233324344635 1\n"
          ]
        }
      ]
    }
  ]
}